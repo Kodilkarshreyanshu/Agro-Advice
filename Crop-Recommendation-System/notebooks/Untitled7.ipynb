{
  "cells": [
    {
      "cell_type": "code",
      "execution_count": 1,
      "metadata": {},
      "outputs": [
        {
          "name": "stdout",
          "output_type": "stream",
          "text": [
            "Requirement already satisfied: openpyxl in c:\\users\\admin\\desktop\\pps assignment\\4th year\\final project\\project\\myworld\\lib\\site-packages (3.1.2)\n",
            "Requirement already satisfied: et-xmlfile in c:\\users\\admin\\desktop\\pps assignment\\4th year\\final project\\project\\myworld\\lib\\site-packages (from openpyxl) (1.1.0)\n",
            "Note: you may need to restart the kernel to use updated packages.\n"
          ]
        },
        {
          "name": "stderr",
          "output_type": "stream",
          "text": [
            "\n",
            "[notice] A new release of pip available: 22.3.1 -> 24.0\n",
            "[notice] To update, run: python.exe -m pip install --upgrade pip\n"
          ]
        }
      ],
      "source": [
        "pip install openpyxl\n"
      ]
    },
    {
      "cell_type": "code",
      "execution_count": 1,
      "metadata": {
        "id": "-nX-dNAZ75ew"
      },
      "outputs": [
        {
          "name": "stdout",
          "output_type": "stream",
          "text": [
            "Dataset exported to crop_dataset.xlsx\n"
          ]
        }
      ],
      "source": [
        "import random\n",
        "import pandas as pd\n",
        "import re\n",
        "\n",
        "def generate_crop_dataset(num_samples=1000, output_filename='crop_dataset.xlsx'):\n",
        "    crops = [\n",
        "        {\"Crop\": \"Soybean\", \"Nitrogen (N)\": \"40-80\", \"Phosphorus (P)\": \"20-40\", \"Potassium (K)\": \"20-40\", \"Rainfall (cm)\": \"50-75\", \"Soil pH\": \"6.0-7.0\", \"Temperature Range\": \"25°C to 30°C\" , \"Humidity\" : \"13-15\"},\n",
        "        {\"Crop\": \"Garlic\", \"Nitrogen (N)\": \"50-100\", \"Phosphorus (P)\": \"40-80\", \"Potassium (K)\": \"40-80\", \"Rainfall (cm)\": \"15-25\", \"Soil pH\": \"6.0-7.0\", \"Temperature Range\": \"25°C to 30°C\" , \"Humidity\" : \"45-50\"},\n",
        "        {\"Crop\": \"Onion\", \"Nitrogen (N)\": \"80-120\", \"Phosphorus (P)\": \"40-80\", \"Potassium (K)\": \"40-80\", \"Rainfall (cm)\": \"50-75\", \"Soil pH\": \"6.0-7.5\", \"Temperature Range\": \"21°C to 26°C\" , \"Humidity\" : \"20-25\"},\n",
        "        {\"Crop\": \"Bajra\", \"Nitrogen (N)\": \"20-40\", \"Phosphorus (P)\": \"20-40\", \"Potassium (K)\": \"20-40\", \"Rainfall (cm)\": \"40-60\", \"Soil pH\": \"5.6-6.2\", \"Temperature Range\": \"25°C to 35°C\" , \"Humidity\" : \"25-35\"},\n",
        "        {\"Crop\": \"Ginger\", \"Nitrogen (N)\": \"60-120\", \"Phosphorus (P)\": \"40-80\", \"Potassium (K)\": \"40-80\", \"Rainfall (cm)\": \"80-100\", \"Soil pH\": \"6.0-6.5\", \"Temperature Range\": \"75°C to 90°C\" , \"Humidity\" : \"70-90\"},\n",
        "        {\"Crop\": \"Cucumber\", \"Nitrogen (N)\": \"100-150\", \"Phosphorus (P)\": \"40-80\", \"Potassium (K)\": \"100-150\", \"Rainfall (cm)\": \"50-75\", \"Soil pH\": \"6.0-7.0\", \"Temperature Range\": \"21°C to 35°C\" , \"Humidity\" : \"60-70\"},\n",
        "        {\"Crop\": \"Spinach\", \"Nitrogen (N)\": \"60-90\", \"Phosphorus (P)\": \"40-60\", \"Potassium (K)\": \"80-120\", \"Rainfall (cm)\": \"40-60\", \"Soil pH\": \"6.0-7.5\", \"Temperature Range\": \"10°C to 24°C\" , \"Humidity\" : \"40-70\"},\n",
        "        {\"Crop\": \"Cabbage\", \"Nitrogen (N)\": \"100-150\", \"Phosphorus (P)\": \"60-100\", \"Potassium (K)\": \"150-200\", \"Rainfall (cm)\": \"50-70\", \"Soil pH\": \"6.0-7.5\", \"Temperature Range\": \"7°C to 24°C\" , \"Humidity\" : \"95-98\"},\n",
        "        {\"Crop\": \"Fenugreek\", \"Nitrogen (N)\": \"20-40\", \"Phosphorus (P)\": \"20-40\", \"Potassium (K)\": \"20-40\", \"Rainfall (cm)\": \"30-50\", \"Soil pH\": \"6.0-7.5\", \"Temperature Range\": \"10°C to 21°C\" , \"Humidity\" : \"15-28\"},\n",
        "        {\"Crop\": \"Tomato\", \"Nitrogen (N)\": \"120-180\", \"Phosphorus (P)\": \"60-90\", \"Potassium (K)\": \"120-180\", \"Rainfall (cm)\": \"50-75\", \"Soil pH\": \"6.0-7.0\", \"Temperature Range\": \"10°C to 29°C\" , \"Humidity\" : \"65-85\"},\n",
        "        {\"Crop\": \"Wheat\", \"Nitrogen (N)\": \"100-120\", \"Phosphorus (P)\": \"50-70\", \"Potassium (K)\": \"30-50\", \"Rainfall (cm)\": \"50-75\", \"Soil pH\": \"6.0-7.0\", \"Temperature Range\": \"25°C to 30°C\", \"Humidity\" : \"50-60\"},\n",
        "    ]\n",
        "\n",
        "    dataset = []\n",
        "    for _ in range(num_samples):\n",
        "        crop = random.choice(crops)\n",
        "        soil_ph_range = crop[\"Soil pH\"]\n",
        "        if soil_ph_range == \"Not specified\":\n",
        "            soil_ph = None\n",
        "        else:\n",
        "            soil_ph_min, soil_ph_max = map(float, soil_ph_range.split('-'))\n",
        "            soil_ph = random.uniform(soil_ph_min, soil_ph_max)\n",
        "\n",
        "        temperature_range = crop[\"Temperature Range\"]\n",
        "        if \"to\" in temperature_range:\n",
        "            # If it's a temperature range, extract numerical values\n",
        "            temperature_values = re.findall(r'\\d+', temperature_range)\n",
        "            temperature_min, temperature_max = map(int, temperature_values[:2])  # Take only the first two values\n",
        "            temperature = random.uniform(temperature_min, temperature_max)  # Keeping temperature as floating-point number\n",
        "        else:\n",
        "            # If it's a categorical value, pick the value\n",
        "            temperature = temperature_range\n",
        "\n",
        "        datapoint = {\n",
        "            \"Nitrogen (N)\": round(random.uniform(*map(float, crop[\"Nitrogen (N)\"].split('-')))),\n",
        "            \"Phosphorus (P)\": round(random.uniform(*map(float, crop[\"Phosphorus (P)\"].split('-')))),\n",
        "            \"Potassium (K)\": round(random.uniform(*map(float, crop[\"Potassium (K)\"].split('-')))),\n",
        "            \"Temperature\": temperature,\n",
        "            \"Humidity\": random.uniform(*map(float, crop[\"Humidity\"].split('-'))),\n",
        "            \"Soil pH\": soil_ph,\n",
        "            \"Rainfall (cm)\": random.uniform(*map(float, crop[\"Rainfall (cm)\"].split('-'))),\n",
        "\n",
        "            \"Crop\": crop[\"Crop\"]\n",
        "        }\n",
        "        \n",
        "        dataset.append(datapoint)\n",
        "\n",
        "    df = pd.DataFrame(dataset)\n",
        "    df = df.sort_values(by='Crop')  # Sorting by 'Crop' column\n",
        "    df.to_excel(output_filename, index=False)\n",
        "    print(f\"Dataset exported to {output_filename}\")\n",
        "\n",
        "# Example usage:\n",
        "generate_crop_dataset()\n"
      ]
    },
    {
      "cell_type": "code",
      "execution_count": null,
      "metadata": {},
      "outputs": [],
      "source": []
    },
    {
      "cell_type": "code",
      "execution_count": 3,
      "metadata": {},
      "outputs": [
        {
          "name": "stdout",
          "output_type": "stream",
          "text": [
            "You should Grow : ['Sesame - Chickpea']\n"
          ]
        },
        {
          "name": "stderr",
          "output_type": "stream",
          "text": [
            "c:\\Users\\Admin\\Desktop\\pps assignment\\4th year\\final project\\project\\myworld\\Lib\\site-packages\\sklearn\\base.py:439: UserWarning: X does not have valid feature names, but DecisionTreeClassifier was fitted with feature names\n",
            "  warnings.warn(\n"
          ]
        }
      ],
      "source": [
        "import numpy as np\n",
        "ph = float(input(\"Enter pH Value: \"))\n",
        "temperature = float(input(\"Enter temperature Value: \"))\n",
        "rainfall = float(input(\"Enter rainfall Value: \"))\n",
        "\n",
        "data = np.array(\n",
        "    [[  ph,temperature, rainfall]])\n",
        "prediction = best_clf.predict(data)\n",
        "print(\"You should Grow :\", prediction)"
      ]
    },
    {
      "cell_type": "code",
      "execution_count": 1,
      "metadata": {},
      "outputs": [
        {
          "name": "stdout",
          "output_type": "stream",
          "text": [
            "Training Accuracy: 1.0\n",
            "Testing Accuracy: 0.8222222222222222\n"
          ]
        },
        {
          "data": {
            "text/plain": [
              "['pest.pkl']"
            ]
          },
          "execution_count": 1,
          "metadata": {},
          "output_type": "execute_result"
        }
      ],
      "source": [
        "import pandas as pd\n",
        "from sklearn.model_selection import train_test_split\n",
        "from sklearn.ensemble import RandomForestClassifier\n",
        "from sklearn.metrics import accuracy_score\n",
        "import joblib\n",
        "\n",
        "# Read the dataset from a CSV file\n",
        "data = pd.read_csv('../static/Dataset/datasetpest.csv')\n",
        "\n",
        "# Split the data into features (X) and target labels (y)\n",
        "X = data[['ph', 'temperature', 'rainfall']]\n",
        "y = data['crops']\n",
        "\n",
        "# Split the data into training and testing sets\n",
        "X_train, X_test, y_train, y_test = train_test_split(X, y, test_size=0.2, random_state=42)\n",
        "\n",
        "# Initialize the Random Forest classifier with default hyperparameters\n",
        "clf = RandomForestClassifier(random_state=42)\n",
        "\n",
        "# Train the classifier on the training data\n",
        "clf.fit(X_train, y_train)\n",
        "\n",
        "# Make predictions on the training data\n",
        "y_train_pred = clf.predict(X_train)\n",
        "\n",
        "# Make predictions on the testing data\n",
        "y_test_pred = clf.predict(X_test)\n",
        "\n",
        "# Calculate the training accuracy\n",
        "training_accuracy = accuracy_score(y_train, y_train_pred)\n",
        "print(\"Training Accuracy:\", training_accuracy)\n",
        "\n",
        "# Calculate the testing accuracy\n",
        "testing_accuracy = accuracy_score(y_test, y_test_pred)\n",
        "print(\"Testing Accuracy:\", testing_accuracy)\n",
        "\n",
        "joblib.dump(clf, 'pest.pkl')"
      ]
    },
    {
      "cell_type": "code",
      "execution_count": 2,
      "metadata": {},
      "outputs": [
        {
          "name": "stdout",
          "output_type": "stream",
          "text": [
            "Training Accuracy: 1.0\n",
            "Testing Accuracy: 0.88125\n"
          ]
        },
        {
          "data": {
            "text/plain": [
              "['nitrogen.pkl']"
            ]
          },
          "execution_count": 2,
          "metadata": {},
          "output_type": "execute_result"
        }
      ],
      "source": [
        "import pandas as pd\n",
        "from sklearn.model_selection import train_test_split\n",
        "from sklearn.ensemble import RandomForestClassifier\n",
        "from sklearn.metrics import accuracy_score\n",
        "import joblib\n",
        "\n",
        "# Read the dataset from a CSV file\n",
        "data = pd.read_csv('../static/Dataset/datasetnitrogen.csv')\n",
        "\n",
        "# Split the data into features (X) and target labels (y)\n",
        "X = data[['ph', 'temperature', 'rainfall']]\n",
        "y = data['crops']\n",
        "\n",
        "# Split the data into training and testing sets\n",
        "X_train, X_test, y_train, y_test = train_test_split(X, y, test_size=0.2, random_state=42)\n",
        "\n",
        "# Initialize the Random Forest classifier with default hyperparameters\n",
        "clf = RandomForestClassifier(random_state=42)\n",
        "\n",
        "# Train the classifier on the training data\n",
        "clf.fit(X_train, y_train)\n",
        "\n",
        "# Make predictions on the training data\n",
        "y_train_pred = clf.predict(X_train)\n",
        "\n",
        "# Make predictions on the testing data\n",
        "y_test_pred = clf.predict(X_test)\n",
        "\n",
        "# Calculate the training accuracy\n",
        "training_accuracy = accuracy_score(y_train, y_train_pred)\n",
        "print(\"Training Accuracy:\", training_accuracy)\n",
        "\n",
        "# Calculate the testing accuracy\n",
        "testing_accuracy = accuracy_score(y_test, y_test_pred)\n",
        "print(\"Testing Accuracy:\", testing_accuracy)\n",
        "\n",
        "joblib.dump(clf, 'nitrogen.pkl')"
      ]
    },
    {
      "cell_type": "code",
      "execution_count": 1,
      "metadata": {},
      "outputs": [
        {
          "name": "stdout",
          "output_type": "stream",
          "text": [
            "Training Accuracy: 1.0\n",
            "Testing Accuracy: 0.94375\n"
          ]
        },
        {
          "data": {
            "text/plain": [
              "['shade.pkl']"
            ]
          },
          "execution_count": 1,
          "metadata": {},
          "output_type": "execute_result"
        }
      ],
      "source": [
        "import pandas as pd\n",
        "from sklearn.model_selection import train_test_split\n",
        "from sklearn.ensemble import RandomForestClassifier\n",
        "from sklearn.metrics import accuracy_score\n",
        "import joblib\n",
        "\n",
        "# Read the dataset from a CSV file\n",
        "data = pd.read_csv('../static/Dataset/datasetShade.csv')\n",
        "\n",
        "# Split the data into features (X) and target labels (y)\n",
        "X = data[['ph', 'temperature', 'rainfall']]\n",
        "y = data['crops']\n",
        "\n",
        "# Split the data into training and testing sets\n",
        "X_train, X_test, y_train, y_test = train_test_split(X, y, test_size=0.2, random_state=42)\n",
        "\n",
        "# Initialize the Random Forest classifier with default hyperparameters\n",
        "clf = RandomForestClassifier(random_state=42)\n",
        "\n",
        "# Train the classifier on the training data\n",
        "clf.fit(X_train, y_train)\n",
        "\n",
        "# Make predictions on the training data\n",
        "y_train_pred = clf.predict(X_train)\n",
        "\n",
        "# Make predictions on the testing data\n",
        "y_test_pred = clf.predict(X_test)\n",
        "\n",
        "# Calculate the training accuracy\n",
        "training_accuracy = accuracy_score(y_train, y_train_pred)\n",
        "print(\"Training Accuracy:\", training_accuracy)\n",
        "\n",
        "# Calculate the testing accuracy\n",
        "testing_accuracy = accuracy_score(y_test, y_test_pred)\n",
        "print(\"Testing Accuracy:\", testing_accuracy)\n",
        "\n",
        "joblib.dump(clf, 'shade.pkl')"
      ]
    },
    {
      "cell_type": "code",
      "execution_count": null,
      "metadata": {},
      "outputs": [],
      "source": [
        "import min_max_scalar as min\n",
        "clif.fit(x_train, y_train)\n",
        "training_accuracy = accuracy_score(y_train, x_train)\n",
        "min_max= randomforest.min (random_state=36)\n",
        "print(\"training accuracy is:\", training_accuracy)\n",
        "x= min.DataFrame[n,p, k, tetmperature, humidity, rainfall]\n",
        "y= min.dataframe[label]\n",
        "\n",
        "\n",
        "import numpy as np\n",
        "import pandas as pd\n",
        "import seaborn as sns\n",
        "sns.boxplot(x=temperature, y= label, axis= true)\n",
        "\n",
        "p= enter the values\n"
      ]
    }
  ],
  "metadata": {
    "colab": {
      "provenance": []
    },
    "kernelspec": {
      "display_name": "Python 3",
      "name": "python3"
    },
    "language_info": {
      "codemirror_mode": {
        "name": "ipython",
        "version": 3
      },
      "file_extension": ".py",
      "mimetype": "text/x-python",
      "name": "python",
      "nbconvert_exporter": "python",
      "pygments_lexer": "ipython3",
      "version": "3.11.3"
    }
  },
  "nbformat": 4,
  "nbformat_minor": 0
}
